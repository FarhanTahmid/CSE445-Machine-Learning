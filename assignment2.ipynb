{
 "cells": [
  {
   "cell_type": "markdown",
   "metadata": {},
   "source": [
    "<h1>Submitted By:</h1>\n",
    "<ol>\n",
    "    <li><p>Name: Farhan Ishrak Tahmid</p><p>NSU ID: 2031458042</p></li>\n",
    "    <li><p>Name: Farhana Akbar</p><p>NSU ID: 2012482042</p></li>\n",
    "</ol>"
   ]
  },
  {
   "cell_type": "markdown",
   "metadata": {},
   "source": [
    "<h1>Question 1</h1>\n",
    "<h4>Multi Variable Regression</h4>"
   ]
  },
  {
   "cell_type": "code",
   "execution_count": 51,
   "metadata": {},
   "outputs": [
    {
     "name": "stdout",
     "output_type": "stream",
     "text": [
      "<bound method NDFrame.head of           Timestamp                Email Address  Gender  \\\n",
      "0               NaN                          NaN     NaN   \n",
      "1   8/24/2023 23:03      dewanaminul12@gmail.com    Male   \n",
      "2    8/25/2023 3:21      tanzilshahria@gmail.com    Male   \n",
      "3    8/25/2023 3:27      progga.tasnim@gmail.com  Female   \n",
      "4   8/26/2023 11:45  saif.ahmed02@northsouth.edu    Male   \n",
      "..              ...                          ...     ...   \n",
      "61   9/17/2023 0:45      knightdark760@gmail.com    Male   \n",
      "62  9/18/2023 23:43            labib77@gmail.com    Male   \n",
      "63   9/19/2023 1:13            emon331@gmail.com    Male   \n",
      "64  9/22/2023 15:47  farabisaifullah32@gmail.com    Male   \n",
      "65  10/5/2023 12:25         subi.freya@gmail.com  Female   \n",
      "\n",
      "   Cumulative Grade Point Average(CGPA)  \\\n",
      "0                                   NaN   \n",
      "1                            3 to < 3.5   \n",
      "2                              3.5 to 4   \n",
      "3                              3.5 to 4   \n",
      "4                              3.5 to 4   \n",
      "..                                  ...   \n",
      "61                             3.5 to 4   \n",
      "62                             3.5 to 4   \n",
      "63                             3.5 to 4   \n",
      "64                           3 to < 3.5   \n",
      "65                             3.5 to 4   \n",
      "\n",
      "   Total year now since your graduation    \\\n",
      "0                                     NaN   \n",
      "1                                       1   \n",
      "2                                       4   \n",
      "3                                       3   \n",
      "4                                       8   \n",
      "..                                    ...   \n",
      "61                                      5   \n",
      "62                                      1   \n",
      "63                                    0.2   \n",
      "64                                      0   \n",
      "65                                      4   \n",
      "\n",
      "                         Fields of research interest  Number of publications  \\\n",
      "0                                                 NaN                    NaN   \n",
      "1   Internet of Things(IoT) and Embedded Systems, ...                  5-Jan   \n",
      "2   Machine Learning, Artificial Intelligence, Nat...           More than 10   \n",
      "3                          Human-Computer interaction                  5-Jan   \n",
      "4   Machine Learning, Data Science/Data mining, Ar...                 10-Jun   \n",
      "..                                                ...                    ...   \n",
      "61                         Human-Computer interaction                    NaN   \n",
      "62  Machine Learning, Data Science/Data mining, Ar...                    NaN   \n",
      "63  Machine Learning, Data Science/Data mining, Ar...                  5-Jan   \n",
      "64                            Artificial Intelligence                    NaN   \n",
      "65  Machine Learning, Data Science/Data mining, Ar...                  5-Jan   \n",
      "\n",
      "   Were you a teaching assistant (TA) or research assistant(RA) during your time in NSU?  \\\n",
      "0                                                 NaN                                      \n",
      "1                                                  No                                      \n",
      "2                                                 Yes                                      \n",
      "3                                                 Yes                                      \n",
      "4                                                 Yes                                      \n",
      "..                                                ...                                      \n",
      "61                                                 No                                      \n",
      "62                                                Yes                                      \n",
      "63                                                Yes                                      \n",
      "64                                                 No                                      \n",
      "65                                                Yes                                      \n",
      "\n",
      "   Did you participate in any extra curricular activities while you were studying in NSU?  \\\n",
      "0                                                 NaN                                       \n",
      "1                                                 Yes                                       \n",
      "2                                                 Yes                                       \n",
      "3                                                 Yes                                       \n",
      "4                                                 Yes                                       \n",
      "..                                                ...                                       \n",
      "61                                                Yes                                       \n",
      "62                                                 No                                       \n",
      "63                                                Yes                                       \n",
      "64                                                Yes                                       \n",
      "65                                                 No                                       \n",
      "\n",
      "   Were you interested in coding?  \\\n",
      "0                             NaN   \n",
      "1                             Yes   \n",
      "2                             Yes   \n",
      "3                             Yes   \n",
      "4                             Yes   \n",
      "..                            ...   \n",
      "61                            Yes   \n",
      "62                            Yes   \n",
      "63                            Yes   \n",
      "64                            Yes   \n",
      "65                            Yes   \n",
      "\n",
      "   Did you participate in any competitive programming?   \\\n",
      "0                                                 NaN     \n",
      "1                                                 Yes     \n",
      "2                                                 Yes     \n",
      "3                                                 Yes     \n",
      "4                                                  No     \n",
      "..                                                ...     \n",
      "61                                                Yes     \n",
      "62                                                Yes     \n",
      "63                                                 No     \n",
      "64                                                 No     \n",
      "65                                                Yes     \n",
      "\n",
      "                       Programming languages you know  \\\n",
      "0                                                 NaN   \n",
      "1                                        C, C++, HTML   \n",
      "2                             C, Java, Python, C++, R   \n",
      "3   C, Python, PHP, C++, HTML, CSS, JavaScript, R,...   \n",
      "4                                   C, Python, R, SQL   \n",
      "..                                                ...   \n",
      "61                       C, Java, C++, HTML, CSS, SQL   \n",
      "62                          C, Java, Python, C++, SQL   \n",
      "63           Java, Python, HTML, CSS, JavaScript, SQL   \n",
      "64                                             Python   \n",
      "65           C, Python, C++, HTML, CSS, R, SQL, NoSQL   \n",
      "\n",
      "                Frameworks you know  \\\n",
      "0                               NaN   \n",
      "1                    Not interested   \n",
      "2                           Laravel   \n",
      "3   React, Django, Laravel, Node.js   \n",
      "4                            Django   \n",
      "..                              ...   \n",
      "61      Angular, ASP.NET, .NET Core   \n",
      "62              Node.js, Express.js   \n",
      "63       React, Node.js, Express.js   \n",
      "64                           Django   \n",
      "65                           Django   \n",
      "\n",
      "   Did you start working as a software engineer after graduation?  \\\n",
      "0                                                 NaN               \n",
      "1                                                  No               \n",
      "2                                                  No               \n",
      "3                                                 Yes               \n",
      "4                                                  No               \n",
      "..                                                ...               \n",
      "61                                                Yes               \n",
      "62                                                Yes               \n",
      "63                                                Yes               \n",
      "64                                                 No               \n",
      "65                                                 No               \n",
      "\n",
      "   What was the name of the company you worked for right after your graduation? if your answer is not write N/A.  \\\n",
      "0                                                 NaN                                                              \n",
      "1                   Venturous Professional Institute                                                               \n",
      "2                           AST International Limited                                                              \n",
      "3              Banglalink (Internship), Therap BD Ltd                                                              \n",
      "4                              North South University                                                              \n",
      "..                                                ...                                                              \n",
      "61                Millenium Information Solution Ltd.                                                              \n",
      "62                                                 Na                                                              \n",
      "63                                              Sazim                                                              \n",
      "64                                                NaN                                                              \n",
      "65                                        Me SOLshare                                                              \n",
      "\n",
      "   What was your starting salary range?  \\\n",
      "0                                   NaN   \n",
      "1                         BDT 15K - 25K   \n",
      "2                           > 25K - 40K   \n",
      "3                                 > 40K   \n",
      "4                         BDT 15K - 25K   \n",
      "..                                  ...   \n",
      "61                                  NaN   \n",
      "62                                  NaN   \n",
      "63                          > 25K - 40K   \n",
      "64                        BDT 15K - 25K   \n",
      "65                          > 25K - 40K   \n",
      "\n",
      "   Did you have any Start-ups after graduation?  \\\n",
      "0                                           NaN   \n",
      "1                                            No   \n",
      "2                                            No   \n",
      "3                                            No   \n",
      "4                                            No   \n",
      "..                                          ...   \n",
      "61                                           No   \n",
      "62                                           No   \n",
      "63                                           No   \n",
      "64                                           No   \n",
      "65                                           No   \n",
      "\n",
      "   Which country did you go to for higher studies?   \\\n",
      "0                                               NaN   \n",
      "1                    United States of America (USA)   \n",
      "2                    United States of America (USA)   \n",
      "3                    United States of America (USA)   \n",
      "4                                           Germany   \n",
      "..                                              ...   \n",
      "61                                  Not yet started   \n",
      "62                                           Canada   \n",
      "63                                  Not yet started   \n",
      "64                   United States of America (USA)   \n",
      "65                                            Other   \n",
      "\n",
      "   What was the name of the University you completed your higher studies from? if answer is no write N/A.  \\\n",
      "0                                                 NaN                                                       \n",
      "1                         Florida Atlantic University                                                       \n",
      "2                   University of Wisconsin-Milwaukee                                                       \n",
      "3                               Marquette University                                                        \n",
      "4       University of Jena (Abbe School of Photonics)                                                       \n",
      "..                                                ...                                                       \n",
      "61                                                NaN                                                       \n",
      "62                                                 Na                                                       \n",
      "63                                                NaN                                                       \n",
      "64                                                NaN                                                       \n",
      "65                                     Universite PSL                                                       \n",
      "\n",
      "   Where did you start working after completing your higher studies?  \n",
      "0                                                 NaN                 \n",
      "1                                            Industry                 \n",
      "2                                                 NaN                 \n",
      "3                                                 NaN                 \n",
      "4                               Educational institute                 \n",
      "..                                                ...                 \n",
      "61                                           Industry                 \n",
      "62                              Educational institute                 \n",
      "63                                                NaN                 \n",
      "64                                                NaN                 \n",
      "65                                                NaN                 \n",
      "\n",
      "[66 rows x 20 columns]>\n"
     ]
    }
   ],
   "source": [
    "# loading data\n",
    "import pandas as pd\n",
    "response_file=\"form-data.csv\"\n",
    "dataframe=pd.read_csv(response_file)\n",
    "print(dataframe.head)\n"
   ]
  },
  {
   "cell_type": "markdown",
   "metadata": {},
   "source": [
    "<h3>Data Cleaning and Scaling</h3>"
   ]
  },
  {
   "cell_type": "code",
   "execution_count": 52,
   "metadata": {},
   "outputs": [
    {
     "name": "stdout",
     "output_type": "stream",
     "text": [
      "Gender                                                                                                            1\n",
      "Cumulative Grade Point Average(CGPA)                                                                              1\n",
      "Total year now since your graduation                                                                              1\n",
      "Fields of research interest                                                                                       3\n",
      "Number of publications                                                                                           27\n",
      "Were you a teaching assistant (TA) or research assistant(RA) during your time in NSU?                             1\n",
      "Did you participate in any extra curricular activities while you were studying in NSU?                            1\n",
      "Were you interested in coding?                                                                                    1\n",
      "Did you participate in any competitive programming?                                                               1\n",
      "Programming languages you know                                                                                    1\n",
      "Frameworks you know                                                                                               1\n",
      "Did you start working as a software engineer after graduation?                                                    1\n",
      "What was the name of the company you worked for right after your graduation? if your answer is not write N/A.    26\n",
      "What was your starting salary range?                                                                             23\n",
      "Did you have any Start-ups after graduation?                                                                      1\n",
      "Which country did you go to for higher studies?                                                                   2\n",
      "What was the name of the University you completed your higher studies from? if answer is no write N/A.           51\n",
      "Where did you start working after completing your higher studies?                                                37\n",
      "dtype: int64\n"
     ]
    }
   ],
   "source": [
    "# Dropping unrelated columns\n",
    "dataframe=dataframe.drop(columns=['Timestamp','Email Address'])\n",
    "# Detect if there are missing values\n",
    "missing_data = dataframe.isna()\n",
    "\n",
    "# Count the sum of missing values in each column\n",
    "missing_counts = dataframe.isna().sum()\n",
    "print(missing_counts)"
   ]
  },
  {
   "cell_type": "code",
   "execution_count": 53,
   "metadata": {},
   "outputs": [
    {
     "name": "stdout",
     "output_type": "stream",
     "text": [
      "Gender                                                                                                           1\n",
      "Cumulative Grade Point Average(CGPA)                                                                             1\n",
      "Total year now since your graduation                                                                             1\n",
      "Fields of research interest                                                                                      3\n",
      "Number of publications                                                                                           0\n",
      "Were you a teaching assistant (TA) or research assistant(RA) during your time in NSU?                            1\n",
      "Did you participate in any extra curricular activities while you were studying in NSU?                           1\n",
      "Were you interested in coding?                                                                                   1\n",
      "Did you participate in any competitive programming?                                                              1\n",
      "Programming languages you know                                                                                   1\n",
      "Frameworks you know                                                                                              1\n",
      "Did you start working as a software engineer after graduation?                                                   1\n",
      "What was the name of the company you worked for right after your graduation? if your answer is not write N/A.    0\n",
      "What was your starting salary range?                                                                             0\n",
      "Did you have any Start-ups after graduation?                                                                     1\n",
      "Which country did you go to for higher studies?                                                                  2\n",
      "What was the name of the University you completed your higher studies from? if answer is no write N/A.           0\n",
      "Where did you start working after completing your higher studies?                                                0\n",
      "dtype: int64\n"
     ]
    }
   ],
   "source": [
    "dataframe['Number of publications'].fillna(0,inplace=True)\n",
    "dataframe['What was the name of the company you worked for right after your graduation? if your answer is not write N/A.'].fillna('N/A',inplace=True)\n",
    "dataframe['What was your starting salary range?'].fillna(0,inplace=True)\n",
    "dataframe['What was the name of the University you completed your higher studies from? if answer is no write N/A.'].fillna('N/A',inplace=True)\n",
    "dataframe['Where did you start working after completing your higher studies?'].fillna('N/A',inplace=True)\n",
    "\n",
    "\n",
    "# Detect if there are missing values\n",
    "missing_data = dataframe.isna()\n",
    "\n",
    "# Count the sum of missing values in each column\n",
    "missing_counts = dataframe.isna().sum()\n",
    "print(missing_counts)"
   ]
  },
  {
   "cell_type": "code",
   "execution_count": 54,
   "metadata": {},
   "outputs": [
    {
     "name": "stdout",
     "output_type": "stream",
     "text": [
      "Empty DataFrame\n",
      "Columns: [Gender, Cumulative Grade Point Average(CGPA), Total year now since your graduation  , Fields of research interest , Number of publications, Were you a teaching assistant (TA) or research assistant(RA) during your time in NSU?, Did you participate in any extra curricular activities while you were studying in NSU?, Were you interested in coding?, Did you participate in any competitive programming? , Programming languages you know, Frameworks you know, Did you start working as a software engineer after graduation?, What was the name of the company you worked for right after your graduation? if your answer is not write N/A., What was your starting salary range?, Did you have any Start-ups after graduation?, Which country did you go to for higher studies? , What was the name of the University you completed your higher studies from? if answer is no write N/A., Where did you start working after completing your higher studies?]\n",
      "Index: []\n"
     ]
    }
   ],
   "source": [
    "# Find duplicate rows\n",
    "duplicate_rows = dataframe.duplicated()\n",
    "\n",
    "# Print the rows that are duplicates\n",
    "duplicate_data = dataframe[duplicate_rows]\n",
    "print(duplicate_data)"
   ]
  },
  {
   "cell_type": "code",
   "execution_count": 55,
   "metadata": {},
   "outputs": [
    {
     "name": "stdout",
     "output_type": "stream",
     "text": [
      "0     NaN\n",
      "1       3\n",
      "2     3.5\n",
      "3     3.5\n",
      "4     3.5\n",
      "     ... \n",
      "61    3.5\n",
      "62    3.5\n",
      "63    3.5\n",
      "64      3\n",
      "65    3.5\n",
      "Name: Minimum CGPA, Length: 66, dtype: object\n",
      "0     NaN\n",
      "1        \n",
      "2       4\n",
      "3       4\n",
      "4       4\n",
      "     ... \n",
      "61      4\n",
      "62      4\n",
      "63      4\n",
      "64       \n",
      "65      4\n",
      "Name: Maximum CGPA, Length: 66, dtype: object\n",
      "0      NaN\n",
      "1      15K\n",
      "2      25K\n",
      "3      40K\n",
      "4      15K\n",
      "      ... \n",
      "61     NaN\n",
      "62     NaN\n",
      "63     25K\n",
      "64     15K\n",
      "65     25K\n",
      "Name: Minimum Salary, Length: 66, dtype: object\n",
      "0      NaN\n",
      "1      25K\n",
      "2      40K\n",
      "3     None\n",
      "4      25K\n",
      "      ... \n",
      "61     NaN\n",
      "62     NaN\n",
      "63     40K\n",
      "64     25K\n",
      "65     40K\n",
      "Name: Maximum Salary, Length: 66, dtype: object\n"
     ]
    }
   ],
   "source": [
    "# Split the \"Cumulative Grade Point Average(CGPA)\" column into \"Minimum CGPA\" and \"Maximum CGPA\" columns\n",
    "dataframe[['Minimum CGPA', 'Maximum CGPA']] = dataframe['Cumulative Grade Point Average(CGPA)'].str.split('<', expand=True)\n",
    "dataframe[['Minimum CGPA', 'Maximum CGPA']] = dataframe['Minimum CGPA'].str.split(' to ', expand=True)\n",
    "\n",
    "print(dataframe['Minimum CGPA'])\n",
    "print(dataframe['Maximum CGPA'])\n",
    "\n",
    "dataframe['What was your starting salary range?'] = dataframe['What was your starting salary range?'].str.replace('BDT', '')\n",
    "dataframe['What was your starting salary range?'] = dataframe['What was your starting salary range?'].str.replace('> ', '')    \n",
    "\n",
    "# Split the \"Salary\" column into \"Minimum Salary\" and \"Maximum Salary\" columns\n",
    "dataframe[['Minimum Salary', 'Maximum Salary']] = dataframe['What was your starting salary range?'].str.split(' - ', expand=True)\n",
    "print(dataframe['Minimum Salary'])\n",
    "print(dataframe['Maximum Salary'])"
   ]
  },
  {
   "cell_type": "code",
   "execution_count": 56,
   "metadata": {},
   "outputs": [],
   "source": [
    "dataframe['Minimum Salary'] = dataframe['Minimum Salary'].str.replace('k', '000')\n"
   ]
  },
  {
   "cell_type": "markdown",
   "metadata": {},
   "source": [
    "<h3>Calculate Correlation and Find the Columns</h3>"
   ]
  },
  {
   "cell_type": "code",
   "execution_count": 57,
   "metadata": {},
   "outputs": [
    {
     "name": "stdout",
     "output_type": "stream",
     "text": [
      "Gender                                                                                                           0.000000\n",
      "Cumulative Grade Point Average(CGPA)                                                                             0.183357\n",
      "Total year now since your graduation                                                                             0.330088\n",
      "Fields of research interest                                                                                      0.062209\n",
      "Number of publications                                                                                           0.134048\n",
      "Were you a teaching assistant (TA) or research assistant(RA) during your time in NSU?                            0.304341\n",
      "Did you participate in any extra curricular activities while you were studying in NSU?                           0.000000\n",
      "Were you interested in coding?                                                                                   0.000000\n",
      "Did you participate in any competitive programming?                                                              0.154969\n",
      "Programming languages you know                                                                                   0.221755\n",
      "Frameworks you know                                                                                              0.058869\n",
      "Did you start working as a software engineer after graduation?                                                   0.000000\n",
      "What was the name of the company you worked for right after your graduation? if your answer is not write N/A.    0.000000\n",
      "What was your starting salary range?                                                                             1.000000\n",
      "Did you have any Start-ups after graduation?                                                                     0.158595\n",
      "Which country did you go to for higher studies?                                                                  0.000000\n",
      "What was the name of the University you completed your higher studies from? if answer is no write N/A.           0.000000\n",
      "Where did you start working after completing your higher studies?                                                0.000000\n",
      "Minimum CGPA                                                                                                     0.183357\n",
      "Maximum CGPA                                                                                                     0.217241\n",
      "Minimum Salary                                                                                                        NaN\n",
      "Maximum Salary                                                                                                   0.939068\n",
      "Name: Minimum Salary, dtype: float64\n"
     ]
    }
   ],
   "source": [
    "import pandas as pd\n",
    "import numpy as np\n",
    "from scipy import stats\n",
    "\n",
    "# Function to calculate Cramér's V for categorical columns\n",
    "def cramers_v(x, y):\n",
    "    confusion_matrix = pd.crosstab(x, y)\n",
    "    chi2 = stats.chi2_contingency(confusion_matrix)[0]\n",
    "    n = confusion_matrix.sum().sum()\n",
    "    phi2 = chi2 / n\n",
    "    r, k = confusion_matrix.shape\n",
    "    phi2corr = max(0, phi2 - ((k-1)*(r-1))/(n-1))\n",
    "    rcorr = r - ((r-1)**2)/(n-1)\n",
    "    kcorr = k - ((k-1)**2)/(n-1)\n",
    "    return np.sqrt(phi2corr / min((kcorr-1), (rcorr-1)))\n",
    "\n",
    "# Calculating Cramér's V for each pair of categorical columns\n",
    "correlation_matrix = pd.DataFrame(index=dataframe.columns, columns=dataframe.columns, dtype=float)\n",
    "\n",
    "for col1 in dataframe.columns:\n",
    "    for col2 in dataframe.columns:\n",
    "        if col1 != col2:  # Skip self-correlation\n",
    "            corr = cramers_v(dataframe[col1], dataframe[col2])\n",
    "            correlation_matrix.loc[col1, col2] = corr\n",
    "\n",
    "# To get the correlation with the \"Minimum Salary\" column\n",
    "minimum_salary_corr = correlation_matrix[\"Minimum Salary\"]\n",
    "print(minimum_salary_corr)"
   ]
  },
  {
   "cell_type": "markdown",
   "metadata": {},
   "source": [
    "<h3>Select Columns and Define it in DataFrame</h3>"
   ]
  },
  {
   "cell_type": "code",
   "execution_count": 58,
   "metadata": {},
   "outputs": [],
   "source": [
    "from sklearn.model_selection import train_test_split\n",
    "from sklearn.linear_model import LinearRegression\n",
    "from sklearn.metrics import mean_squared_error, r2_score\n",
    "\n",
    "selected_columns=['Maximum CGPA','Total year now since your graduation  ','Programming languages you know','Did you have any Start-ups after graduation?','Did you participate in any competitive programming? ']\n",
    "\n",
    "dataframe.dropna(subset=selected_columns, inplace=True)\n",
    "dataframe.dropna(subset=['Minimum Salary'],inplace=True)\n",
    "\n",
    "dataframe['Minimum Salary'] = dataframe['Minimum Salary'].str.replace('K', '000')"
   ]
  },
  {
   "cell_type": "markdown",
   "metadata": {},
   "source": [
    "<h3>Encoding Categorical Data</h3>"
   ]
  },
  {
   "cell_type": "code",
   "execution_count": 59,
   "metadata": {},
   "outputs": [],
   "source": [
    "from sklearn.preprocessing import LabelEncoder\n",
    "\n",
    "label_encoders = {}\n",
    "for column_name in selected_columns:\n",
    "    label_encoder = LabelEncoder()\n",
    "    dataframe[column_name] = label_encoder.fit_transform(dataframe[column_name])\n",
    "    label_encoders[column_name] = label_encoder"
   ]
  },
  {
   "cell_type": "code",
   "execution_count": 60,
   "metadata": {},
   "outputs": [],
   "source": [
    "X = dataframe[selected_columns]\n",
    "y=dataframe['Minimum Salary']\n",
    "X_train, X_test, y_train, y_test = train_test_split(X, y, test_size=0.2, random_state=42)\n",
    "\n"
   ]
  },
  {
   "cell_type": "code",
   "execution_count": 61,
   "metadata": {},
   "outputs": [
    {
     "name": "stdout",
     "output_type": "stream",
     "text": [
      "Mean Squared Error: 127900692.88227619\n",
      "R-squared (R2) Score: -0.9547087025404477\n"
     ]
    }
   ],
   "source": [
    "# Create and train a linear regression model\n",
    "regression_model = LinearRegression()\n",
    "regression_model.fit(X_train, y_train)\n",
    "\n",
    "# Make predictions on the test set\n",
    "y_pred = regression_model.predict(X_test)\n",
    "\n",
    "# Evaluate the model\n",
    "mse = mean_squared_error(y_test, y_pred)\n",
    "r2 = r2_score(y_test, y_pred)\n",
    "print(\"Mean Squared Error:\", mse)\n",
    "print(\"R-squared (R2) Score:\", r2)"
   ]
  },
  {
   "cell_type": "code",
   "execution_count": 62,
   "metadata": {},
   "outputs": [
    {
     "name": "stdout",
     "output_type": "stream",
     "text": [
      "Predicted Entry-Level Salary: 49748.707289317405\n"
     ]
    }
   ],
   "source": [
    "# Predict the entry-level salary for a fresh graduate\n",
    "fresh_graduate_data = pd.DataFrame({'Maximum CGPA': [3.5], \n",
    "                                    'Total year now since your graduation  ': [2], \n",
    "                                    'Programming languages you know': [31],\n",
    "                                    'Did you have any Start-ups after graduation?': [0],\n",
    "                                    'Did you participate in any competitive programming? ': [1]})\n",
    "\n",
    "predicted_salary = regression_model.predict(fresh_graduate_data)\n",
    "print(\"Predicted Entry-Level Salary:\", predicted_salary[0])"
   ]
  },
  {
   "cell_type": "markdown",
   "metadata": {},
   "source": [
    "<h1>Question 2</h1>\n",
    "<h4>Multi Variable Logistic Regression</h4>"
   ]
  },
  {
   "cell_type": "code",
   "execution_count": 63,
   "metadata": {},
   "outputs": [],
   "source": [
    "import pandas as pd\n",
    "from sklearn.preprocessing import LabelEncoder\n",
    "from sklearn.model_selection import train_test_split\n",
    "from sklearn.linear_model import LogisticRegression\n",
    "from sklearn.metrics import accuracy_score, classification_report, confusion_matrix"
   ]
  },
  {
   "cell_type": "code",
   "execution_count": 64,
   "metadata": {},
   "outputs": [],
   "source": [
    "response_file=\"form-data.csv\"\n",
    "dataframe=pd.read_csv(response_file)\n",
    "dataframe = dataframe.drop(0)"
   ]
  },
  {
   "cell_type": "markdown",
   "metadata": {},
   "source": [
    "<h3>Pre processing data</h3>"
   ]
  },
  {
   "cell_type": "code",
   "execution_count": 65,
   "metadata": {},
   "outputs": [],
   "source": [
    "# Dropping unrelated columns\n",
    "dataframe=dataframe.drop(columns=['Timestamp','Email Address'])\n",
    "\n",
    "\n",
    "# Splitting the \"Cumulative Grade Point Average(CGPA)\" column into \"Minimum CGPA\" and \"Maximum CGPA\" columns\n",
    "dataframe[['Minimum CGPA', 'Maximum CGPA']] = dataframe['Cumulative Grade Point Average(CGPA)'].str.split('<', expand=True)\n",
    "dataframe[['Minimum CGPA', 'Maximum CGPA']] = dataframe['Minimum CGPA'].str.split(' to ', expand=True)\n",
    "\n",
    "dataframe=dataframe.drop('Cumulative Grade Point Average(CGPA)',axis=1)\n",
    "\n",
    "dataframe['Minimum CGPA'] = pd.to_numeric(dataframe['Minimum CGPA'], errors='coerce')\n",
    "dataframe['Maximum CGPA'] = pd.to_numeric(dataframe['Maximum CGPA'], errors='coerce')\n",
    "dataframe[['Minimum CGPA','Maximum CGPA']]=dataframe[['Minimum CGPA','Maximum CGPA']].fillna(0)\n",
    "\n",
    "\n",
    "\n",
    "dataframe['What was your starting salary range?'] = dataframe['What was your starting salary range?'].str.replace('BDT', '')\n",
    "dataframe['What was your starting salary range?'] = dataframe['What was your starting salary range?'].str.replace('> ', '')\n",
    "\n",
    "# Splitting the \"Salary\" column into \"Minimum Salary\" and \"Maximum Salary\" columns\n",
    "dataframe[['Minimum Salary', 'Maximum Salary']] = dataframe['What was your starting salary range?'].str.split(' - ', expand=True)\n",
    "\n",
    "dataframe=dataframe.drop('What was your starting salary range?',axis=1)\n",
    "\n",
    "dataframe['Minimum Salary'] = dataframe['Minimum Salary'].str.replace('K', '000')\n",
    "\n",
    "dataframe['Maximum Salary'] = dataframe['Maximum Salary'].str.replace('K', '000')\n",
    "\n",
    "dataframe[['Minimum Salary','Maximum Salary']]=dataframe[['Minimum Salary','Maximum Salary']].fillna(0)\n",
    "\n",
    "# Converting the data type of the salary columns\n",
    "\n",
    "dataframe[['Minimum Salary','Maximum Salary']] = dataframe[['Minimum Salary','Maximum Salary']].astype(int)\n",
    "\n",
    "dataframe['Average Salary']=(dataframe['Minimum Salary']+dataframe['Maximum Salary'])/2\n",
    "dataframe=dataframe.drop(columns=['Minimum Salary','Maximum Salary'])\n",
    "\n",
    "# Replacing some row data\n",
    "dataframe['Total year now since your graduation  ']=dataframe['Total year now since your graduation  '].str.replace(' years','')\n",
    "dataframe['Total year now since your graduation  ']=dataframe['Total year now since your graduation  '].str.replace(' year','')\n",
    "\n",
    "# Finding categorical columns\n",
    "categorical_columns = dataframe.select_dtypes(include=['object', 'category']).columns\n",
    "\n",
    "# Applying Label Encoding to each categorical column\n",
    "label_encoders = {}\n",
    "for column in categorical_columns:\n",
    "    label_encoder = LabelEncoder()\n",
    "    dataframe[column] = label_encoder.fit_transform(dataframe[column])\n",
    "    label_encoders[column] = label_encoder"
   ]
  },
  {
   "cell_type": "markdown",
   "metadata": {},
   "source": [
    "<h3>Finding the Features which are corelated</h3>"
   ]
  },
  {
   "cell_type": "code",
   "execution_count": 66,
   "metadata": {},
   "outputs": [],
   "source": [
    "#Finding corelation Between Data columns\n",
    "correlation_matrix = dataframe.corr()\n",
    "# Setting the Target column\n",
    "correlation_with_target = correlation_matrix['Did you start working as a software engineer after graduation?'].abs().sort_values(ascending=False)\n",
    "\n",
    "#Selecting features based on corelation Matrix\n",
    "N = 4 # 4 feature to find\n",
    "selected_features = correlation_with_target.index[1:N+1].tolist()"
   ]
  },
  {
   "cell_type": "markdown",
   "metadata": {},
   "source": [
    "<h3>Splitting Test and Train data</h3>"
   ]
  },
  {
   "cell_type": "code",
   "execution_count": 67,
   "metadata": {},
   "outputs": [],
   "source": [
    "#Defining X, Y train test dataset\n",
    "\n",
    "X = dataframe[selected_features]\n",
    "y = dataframe['Did you start working as a software engineer after graduation?']\n",
    "\n",
    "X_train, X_test, y_train, y_test = train_test_split(X, y, test_size=0.2, random_state=42)"
   ]
  },
  {
   "cell_type": "markdown",
   "metadata": {},
   "source": [
    "<h3>Applying Regression Model</h3>"
   ]
  },
  {
   "cell_type": "code",
   "execution_count": 68,
   "metadata": {},
   "outputs": [],
   "source": [
    "# Creating and training a logistic regression model\n",
    "logistic_model = LogisticRegression()\n",
    "logistic_model.fit(X_train, y_train)\n",
    "\n",
    "# Making predictions on the test set\n",
    "y_pred = logistic_model.predict(X_test)"
   ]
  },
  {
   "cell_type": "markdown",
   "metadata": {},
   "source": [
    "<h3>Defining Accuracy Model</h3>"
   ]
  },
  {
   "cell_type": "code",
   "execution_count": 69,
   "metadata": {},
   "outputs": [
    {
     "name": "stdout",
     "output_type": "stream",
     "text": [
      "Accuracy: 0.6923076923076923\n",
      "Confusion Matrix:\n",
      "[[8 1]\n",
      " [3 1]]\n",
      "Classification Report:\n",
      "              precision    recall  f1-score   support\n",
      "\n",
      "           0       0.73      0.89      0.80         9\n",
      "           1       0.50      0.25      0.33         4\n",
      "\n",
      "    accuracy                           0.69        13\n",
      "   macro avg       0.61      0.57      0.57        13\n",
      "weighted avg       0.66      0.69      0.66        13\n",
      "\n",
      "Feature Importance (Coefficients):\n",
      "Were you interested in coding?: 0.8855848116644424\n",
      "Total year now since your graduation  : 0.06497684786924997\n",
      "What was the name of the company you worked for right after your graduation? if your answer is not write N/A.: -0.03384712565510539\n",
      "Minimum CGPA: -0.7787018258302327\n"
     ]
    }
   ],
   "source": [
    "# Evaluating the model\n",
    "accuracy = accuracy_score(y_test, y_pred)\n",
    "confusion = confusion_matrix(y_test, y_pred)\n",
    "classification_rep = classification_report(y_test, y_pred)\n",
    "\n",
    "print(\"Accuracy:\", accuracy)\n",
    "print(\"Confusion Matrix:\")\n",
    "print(confusion)\n",
    "print(\"Classification Report:\")\n",
    "print(classification_rep)\n",
    "\n",
    "# Feature Importance in the model\n",
    "feature_importance = logistic_model.coef_\n",
    "print(\"Feature Importance (Coefficients):\")\n",
    "for feature, importance in zip(selected_features, feature_importance[0]):\n",
    "    print(f\"{feature}: {importance}\")"
   ]
  },
  {
   "cell_type": "markdown",
   "metadata": {},
   "source": [
    "<h3>Making Predictions</h3>"
   ]
  },
  {
   "cell_type": "code",
   "execution_count": 70,
   "metadata": {},
   "outputs": [
    {
     "name": "stdout",
     "output_type": "stream",
     "text": [
      "Going to a company to do job is False\n"
     ]
    }
   ],
   "source": [
    "#Predict data\n",
    "whether_going_or_not=pd.DataFrame({\n",
    "        'Were you interested in coding?':[0],\n",
    "        'Total year now since your graduation  ':[1],\n",
    "        'What was the name of the company you worked for right after your graduation? if your answer is not write N/A.':[33],\n",
    "        'Minimum CGPA':[2]\n",
    "    })\n",
    "\n",
    "prediction=logistic_model.predict(whether_going_or_not)\n",
    "if prediction==0:\n",
    "    print(f\"Going to a company to do job is False\")\n",
    "else:\n",
    "    print(f\"Going to a company to do job is True\")"
   ]
  },
  {
   "cell_type": "markdown",
   "metadata": {},
   "source": [
    "<h1>Question 3</h1>\n",
    "<h4>For applying KNN algorithm what will be our target function considering important\n",
    "features as dependent and independent variabls.</h4>\n",
    "\n",
    "<p>Here i am taking \"Average Salary\" as my target function considering this as an dependent variable depending on other independent variables</p>"
   ]
  },
  {
   "cell_type": "code",
   "execution_count": 71,
   "metadata": {},
   "outputs": [],
   "source": [
    "from sklearn.neighbors import KNeighborsClassifier, KNeighborsRegressor\n",
    "from sklearn.feature_selection import SelectKBest, f_classif\n"
   ]
  },
  {
   "cell_type": "markdown",
   "metadata": {},
   "source": [
    "<h3>Declaring Dependent and Independent Variables</h3>\n",
    "<h4>Getting The selected Features with Kbest Selector with Target function</h4>"
   ]
  },
  {
   "cell_type": "code",
   "execution_count": 72,
   "metadata": {},
   "outputs": [
    {
     "name": "stdout",
     "output_type": "stream",
     "text": [
      "Index(['Number of publications',\n",
      "       'Were you a teaching assistant (TA) or research assistant(RA) during your time in NSU?',\n",
      "       'Did you participate in any competitive programming? ',\n",
      "       'Programming languages you know',\n",
      "       'What was the name of the company you worked for right after your graduation? if your answer is not write N/A.'],\n",
      "      dtype='object')\n"
     ]
    }
   ],
   "source": [
    "\n",
    "# Dependent Variable\n",
    "y_classification = dataframe['Average Salary']\n",
    "# Independent Variables\n",
    "X_classification = df_except_one_column = dataframe.loc[:, dataframe.columns != \"Average Salary\"]\n",
    "\n",
    "\n",
    "selector = SelectKBest(score_func=f_classif, k=5)  # selecting 5 features that are most important to predict\n",
    "selector.fit(X_classification, y_classification)\n",
    "selected_features = X_classification.columns[selector.get_support()]\n",
    "print(selected_features)\n",
    "X_classification = dataframe[selected_columns]\n"
   ]
  },
  {
   "cell_type": "markdown",
   "metadata": {},
   "source": [
    "<h3>Splitting into Test Train Data</h3>"
   ]
  },
  {
   "cell_type": "code",
   "execution_count": 73,
   "metadata": {},
   "outputs": [],
   "source": [
    "X_train_cls, X_test_cls, y_train_cls, y_test_cls = train_test_split(X_classification, y_classification, test_size=0.2)\n"
   ]
  },
  {
   "cell_type": "markdown",
   "metadata": {},
   "source": [
    "<h3>Implementing KNN Classifier</h3>"
   ]
  },
  {
   "cell_type": "code",
   "execution_count": 74,
   "metadata": {},
   "outputs": [],
   "source": [
    "knn_classifier = KNeighborsClassifier(n_neighbors=3)\n",
    "knn_classifier.fit(X_train_cls, y_train_cls)\n",
    "classification_result = knn_classifier.predict(X_test_cls)"
   ]
  },
  {
   "cell_type": "markdown",
   "metadata": {},
   "source": [
    "<h3>Model Accuracy</h3>"
   ]
  },
  {
   "cell_type": "code",
   "execution_count": 75,
   "metadata": {},
   "outputs": [
    {
     "name": "stdout",
     "output_type": "stream",
     "text": [
      "Classification Accuracy: 0.5384615384615384\n"
     ]
    }
   ],
   "source": [
    "classification_accuracy = accuracy_score(y_test_cls, classification_result)\n",
    "print(\"Classification Accuracy:\", classification_accuracy)\n",
    "\n"
   ]
  }
 ],
 "metadata": {
  "kernelspec": {
   "display_name": "venv",
   "language": "python",
   "name": "python3"
  },
  "language_info": {
   "codemirror_mode": {
    "name": "ipython",
    "version": 3
   },
   "file_extension": ".py",
   "mimetype": "text/x-python",
   "name": "python",
   "nbconvert_exporter": "python",
   "pygments_lexer": "ipython3",
   "version": "3.11.1"
  }
 },
 "nbformat": 4,
 "nbformat_minor": 2
}
